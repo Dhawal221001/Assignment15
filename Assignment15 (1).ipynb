{
 "cells": [
  {
   "cell_type": "markdown",
   "id": "0693f4e2-ab8b-4f28-bb73-d93ea668f8a6",
   "metadata": {},
   "source": [
    "## Q1. What is a database? Differentiate between SQL and NoSQL databases."
   ]
  },
  {
   "cell_type": "markdown",
   "id": "b40165b0-af51-4ec4-b3c0-5251688883fe",
   "metadata": {},
   "source": [
    "### Database is an organized collection of structured information, or data."
   ]
  },
  {
   "cell_type": "markdown",
   "id": "51159cd9-3019-4394-af29-10bd0eb76ef3",
   "metadata": {},
   "source": [
    "### SQL databases is relational databases, table based. These are verically scalable and better for multi_row transactions.\n",
    "\n",
    "### NoSQL databases are primarily used for non relational data, and are in document, graph, wide_column in format.These are horizontally scalable  and better for unstructured data like JSON."
   ]
  },
  {
   "cell_type": "markdown",
   "id": "07000b7e-1257-4d18-83c8-62b770a0c090",
   "metadata": {},
   "source": [
    "## Q2. What is DDL? Explain why CREATE, DROP, ALTER, and TRUNCATE are used with an example."
   ]
  },
  {
   "cell_type": "markdown",
   "id": "b3ccd635-f941-4cb8-9c23-7ecc0fc24c15",
   "metadata": {},
   "source": [
    "### DDL stands for data definition language. It is a subset of SQL. DDL consist of commands like CREATE, ALTER, TRUNCATE, DROP."
   ]
  },
  {
   "cell_type": "code",
   "execution_count": null,
   "id": "50a37fd2-b73f-4182-9051-7db0aa11ac25",
   "metadata": {},
   "outputs": [],
   "source": [
    "### SQL code:\n",
    "'''\n",
    "CREATE TABLE Student\n",
    "(\n",
    "    college_id int,\n",
    "    name varchar(30)\n",
    ");\n",
    "\n",
    "ALTER TABLE Student\n",
    "    ADD roll_no. int;\n",
    "\n",
    "TRUNCATE TABLE Student;\n",
    "\n",
    "DROP TABLE Student;\n",
    "     \n",
    "'''"
   ]
  },
  {
   "cell_type": "markdown",
   "id": "939ad6fa-a186-4a74-97b9-4f7bc954004a",
   "metadata": {},
   "source": [
    "## Q3. What is DML? Explain INSERT, UPDATE, and DELETE with an example."
   ]
  },
  {
   "cell_type": "markdown",
   "id": "8e2e9d99-c359-491d-a683-8fe93d67691d",
   "metadata": {},
   "source": [
    "## DML stands for Data Manipulation Language. It includes SQL commands that deals with the manipulation of data present in database. Commands included in DML are SELECT, INSERT, UPDATE, DELETE."
   ]
  },
  {
   "cell_type": "code",
   "execution_count": null,
   "id": "e80da753-2f0d-41c1-8a02-2a570e6ba8dd",
   "metadata": {},
   "outputs": [],
   "source": [
    "### SQL code:\n",
    "'''\n",
    "INSERT into Student(college_id, name) values (234098, \"Dhawal Jain\");\n",
    "\n",
    "UPDATE Student SET college_id=234097 WHERE name=\"Dhawal\";\n",
    "\n",
    "DELETE from Student WHERE college_id=234097;\n",
    "\n",
    "'''"
   ]
  },
  {
   "cell_type": "markdown",
   "id": "e734f5ca-4121-4a32-b242-fe5a8dbd58db",
   "metadata": {},
   "source": [
    "## Q4. What is DQL? Explain SELECT with an example."
   ]
  },
  {
   "cell_type": "markdown",
   "id": "c9bf0d46-254c-4653-b364-9cdefcab1274",
   "metadata": {},
   "source": [
    "### It stands for Data Query Language.These are used for performing queries on the data with schema objects. Commnads include in it is SELECT."
   ]
  },
  {
   "cell_type": "code",
   "execution_count": null,
   "id": "b2ceb9a2-da23-4ad5-9e5b-0796df5eb5a4",
   "metadata": {},
   "outputs": [],
   "source": [
    "## SQL code:\n",
    "'''\n",
    "SELECT name from Student;\n",
    "\n",
    "'''"
   ]
  },
  {
   "cell_type": "markdown",
   "id": "8662a271-38d5-45e9-8509-ed39f2ae190b",
   "metadata": {},
   "source": [
    "## Q5. Explain Primary Key and Foreign Key."
   ]
  },
  {
   "cell_type": "markdown",
   "id": "24f55e8d-afc6-4f32-b166-d6b67bf454e6",
   "metadata": {},
   "source": [
    "### Primary Key helps in uniquely identifying the tuple of the databases i.e. it ensures that data in specific column is unique and not null.\n",
    "### While Foreign Key is used to identify the relationship between the tables through the primary key of one table, which acts as a foreign key to another table i.e. it provides the link between data in two tables."
   ]
  },
  {
   "cell_type": "markdown",
   "id": "6964d6ad-3ca9-4886-be34-a49fa71ed211",
   "metadata": {},
   "source": [
    "## Q6. Write a python code to connect MySQL to python. Explain the cursor() and execute() method. "
   ]
  },
  {
   "cell_type": "code",
   "execution_count": null,
   "id": "78a1d89e-4d38-4f2f-a51c-fceb3727ea1f",
   "metadata": {},
   "outputs": [],
   "source": [
    "import mysql.connector\n",
    "mydb=mysql.connector.connect\n",
    "(\n",
    "    host='local host',\n",
    "    user='abc',\n",
    "    password='password'\n",
    ")"
   ]
  },
  {
   "cell_type": "markdown",
   "id": "f21763d5-b6cd-4114-8171-fe444f4cdc54",
   "metadata": {},
   "source": [
    "### cursor() method is used to create Cursor object of mysql-connector-python, which is used to execute statements to communicate with theMYSQL database.\n",
    "\n",
    "### execute() method, accepts a MYSQL query as parameter and executes the given query."
   ]
  },
  {
   "cell_type": "markdown",
   "id": "15263571-c55d-42d6-ad19-dc79276ef31b",
   "metadata": {},
   "source": [
    "## Q7. Give the order of execution of SQL clauses in an SQL query."
   ]
  },
  {
   "cell_type": "markdown",
   "id": "010e0a7a-c814-4b73-b108-d3825d9cac68",
   "metadata": {},
   "source": [
    "### 1. from\n",
    "### 2. where\n",
    "### 3. group by\n",
    "### 4. having\n",
    "### 5. select\n",
    "### 6. order by\n",
    "### 7. limit"
   ]
  },
  {
   "cell_type": "code",
   "execution_count": null,
   "id": "31d841d3-992e-43e6-8e10-5eeb8f6da4d9",
   "metadata": {},
   "outputs": [],
   "source": []
  }
 ],
 "metadata": {
  "kernelspec": {
   "display_name": "Python 3 (ipykernel)",
   "language": "python",
   "name": "python3"
  },
  "language_info": {
   "codemirror_mode": {
    "name": "ipython",
    "version": 3
   },
   "file_extension": ".py",
   "mimetype": "text/x-python",
   "name": "python",
   "nbconvert_exporter": "python",
   "pygments_lexer": "ipython3",
   "version": "3.10.8"
  }
 },
 "nbformat": 4,
 "nbformat_minor": 5
}
